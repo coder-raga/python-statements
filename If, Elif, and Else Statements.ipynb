{
 "cells": [
  {
   "cell_type": "code",
   "execution_count": 11,
   "metadata": {},
   "outputs": [
    {
     "name": "stdout",
     "output_type": "stream",
     "text": [
      "Feed Me!\n"
     ]
    }
   ],
   "source": [
    "hungry = True\n",
    "\n",
    "if hungry:\n",
    "    print('Feed Me!')\n",
    "else:\n",
    "    print('Im not hungry')"
   ]
  },
  {
   "cell_type": "code",
   "execution_count": 1,
   "metadata": {},
   "outputs": [
    {
     "name": "stdout",
     "output_type": "stream",
     "text": [
      "Brrr, I'm cold!\n"
     ]
    }
   ],
   "source": [
    "tempratureislow = True\n",
    "\n",
    "if tempratureislow:\n",
    "    print(\"Brrr, I'm cold!\")\n",
    "else:\n",
    "    print(\"Nice weather, isn't it?\")"
   ]
  },
  {
   "cell_type": "code",
   "execution_count": 18,
   "metadata": {
    "scrolled": true
   },
   "outputs": [
    {
     "name": "stdout",
     "output_type": "stream",
     "text": [
      "I do not know much.\n"
     ]
    }
   ],
   "source": [
    "loc = 'Store'\n",
    "\n",
    "if loc == 'Auto Shop':\n",
    "    print(\"Cars are cool!\")\n",
    "elif loc == 'Bank':\n",
    "    print(\"Money is cool!\")\n",
    "elif loc == \"Grocery Store\":\n",
    "    print(\"Groceries rock!\")\n",
    "else:    \n",
    "    print(\"I do not know much.\")"
   ]
  },
  {
   "cell_type": "code",
   "execution_count": 3,
   "metadata": {
    "scrolled": false
   },
   "outputs": [
    {
     "name": "stdout",
     "output_type": "stream",
     "text": [
      "What sound does that make?\n"
     ]
    }
   ],
   "source": [
    "animal = \"Cow\"\n",
    "\n",
    "if animal == \"Cat\":\n",
    "    print(\"Meow!\")\n",
    "elif animal == \"Lion\":\n",
    "    print(\"Roar!\")\n",
    "elif animal == \"Dog\":\n",
    "    print(\"Woof!\")\n",
    "elif animal == \"Horse\":\n",
    "    print(\"Neigh!\")\n",
    "elif animal == \"Sheep\":\n",
    "    print(\"Baa!\")\n",
    "else:\n",
    "    print(\"What sound does that make?\")"
   ]
  },
  {
   "cell_type": "code",
   "execution_count": 8,
   "metadata": {},
   "outputs": [
    {
     "name": "stdout",
     "output_type": "stream",
     "text": [
      "Hail king of Narnia, Emperor Miraz!\n"
     ]
    }
   ],
   "source": [
    "name = \"Miraz\"\n",
    "\n",
    "if name == 'Lucy':\n",
    "    print(\"Hello Lucy!\")\n",
    "elif name == \"Peter\":\n",
    "    print(\"Hello Peter!\")\n",
    "elif name == \"Susan\":\n",
    "    print(\"Hello Susan!\")\n",
    "elif name == \"Edmund\":\n",
    "    print(\"Hello Edmund!\")\n",
    "elif name == \"Miraz\":\n",
    "    print(\"Hail king of Narnia, Emperor Miraz!\")\n",
    "else:\n",
    "    print(\"What is your name?\")"
   ]
  },
  {
   "cell_type": "code",
   "execution_count": 1,
   "metadata": {},
   "outputs": [
    {
     "name": "stdout",
     "output_type": "stream",
     "text": [
      "Oranges!\n"
     ]
    }
   ],
   "source": [
    "code = \"--- .-. .- -. --. . ...\"\n",
    "\n",
    "if code == \".- .--. .--. .-.. . ...\":\n",
    "    print(\"Apples!\")\n",
    "elif code == \"--- .-. .- -. --. . ...\":\n",
    "    print(\"Oranges!\")\n",
    "else:\n",
    "    print(\"Mishmash Nonsense!\")"
   ]
  },
  {
   "cell_type": "code",
   "execution_count": null,
   "metadata": {
    "collapsed": true
   },
   "outputs": [],
   "source": []
  }
 ],
 "metadata": {
  "kernelspec": {
   "display_name": "Python 3",
   "language": "python",
   "name": "python3"
  },
  "language_info": {
   "codemirror_mode": {
    "name": "ipython",
    "version": 3
   },
   "file_extension": ".py",
   "mimetype": "text/x-python",
   "name": "python",
   "nbconvert_exporter": "python",
   "pygments_lexer": "ipython3",
   "version": "3.6.3"
  }
 },
 "nbformat": 4,
 "nbformat_minor": 2
}
