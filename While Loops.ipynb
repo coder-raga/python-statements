{
 "cells": [
  {
   "cell_type": "code",
   "execution_count": 37,
   "metadata": {},
   "outputs": [
    {
     "name": "stdout",
     "output_type": "stream",
     "text": [
      "The current value of x is 0\n",
      "The current value of x is 1\n",
      "The current value of x is 2\n",
      "The current value of x is 3\n",
      "The current value of x is 4\n",
      "X is not less than 5!\n"
     ]
    }
   ],
   "source": [
    "x = 0\n",
    "\n",
    "while x < 5:\n",
    "    print(f'The current value of x is {x}')\n",
    "    x += 1\n",
    "else:\n",
    "    print(\"X is not less than 5!\")"
   ]
  },
  {
   "cell_type": "markdown",
   "metadata": {},
   "source": [
    "break : breaks out of the current closest enclosing loop"
   ]
  },
  {
   "cell_type": "markdown",
   "metadata": {},
   "source": [
    "continue : goes to the top of the closest enclosing loop"
   ]
  },
  {
   "cell_type": "markdown",
   "metadata": {},
   "source": [
    "pass : does nothing at all"
   ]
  },
  {
   "cell_type": "code",
   "execution_count": 18,
   "metadata": {},
   "outputs": [
    {
     "name": "stdout",
     "output_type": "stream",
     "text": [
      "End of script\n"
     ]
    }
   ],
   "source": [
    "x = [1,2,3]\n",
    "\n",
    "for item in x:\n",
    "    # comment\n",
    "    pass \n",
    "\n",
    "print(\"End of script\")"
   ]
  },
  {
   "cell_type": "code",
   "execution_count": 43,
   "metadata": {
    "collapsed": true
   },
   "outputs": [],
   "source": [
    "mystring = 'Pleter'"
   ]
  },
  {
   "cell_type": "code",
   "execution_count": 45,
   "metadata": {},
   "outputs": [
    {
     "name": "stdout",
     "output_type": "stream",
     "text": [
      "P\n",
      "e\n",
      "t\n",
      "e\n",
      "r\n"
     ]
    }
   ],
   "source": [
    "for letter in mystring:\n",
    "    if letter == 'l':\n",
    "        continue\n",
    "    print(letter)"
   ]
  },
  {
   "cell_type": "code",
   "execution_count": 50,
   "metadata": {
    "collapsed": true
   },
   "outputs": [],
   "source": [
    "name = \"Mossssssssssssssssssssssssssssssssssszart\""
   ]
  },
  {
   "cell_type": "code",
   "execution_count": 51,
   "metadata": {},
   "outputs": [
    {
     "name": "stdout",
     "output_type": "stream",
     "text": [
      "M\n",
      "o\n"
     ]
    }
   ],
   "source": [
    "for letter in name:\n",
    "    if letter == \"s\":\n",
    "        break\n",
    "    print(letter)"
   ]
  },
  {
   "cell_type": "code",
   "execution_count": 54,
   "metadata": {},
   "outputs": [
    {
     "name": "stdout",
     "output_type": "stream",
     "text": [
      "0\n",
      "1\n",
      "2\n"
     ]
    }
   ],
   "source": [
    "x = 0\n",
    "\n",
    "while x < 5:\n",
    "    if x == 3:\n",
    "        break\n",
    "    print(x)\n",
    "    x += 1"
   ]
  },
  {
   "cell_type": "code",
   "execution_count": 65,
   "metadata": {},
   "outputs": [
    {
     "name": "stdout",
     "output_type": "stream",
     "text": [
      "The number of candy(ies) is 0.\n",
      "The number of candy(ies) is 1.\n",
      "The number of candy(ies) is 2.\n",
      "The number of candy(ies) is 3.\n",
      "The number of candy(ies) is 4.\n",
      "The number of candy(ies) is 5.\n",
      "The number of candy(ies) is 6.\n",
      "The number of candy(ies) is 7.\n",
      "The number of candy(ies) is 8.\n",
      "The number of candy(ies) is 9.\n",
      "No more candy!\n"
     ]
    }
   ],
   "source": [
    "candy = 0\n",
    "\n",
    "while candy < 10:\n",
    "    print(f'The number of candy(ies) is {candy}.')\n",
    "    candy += 1\n",
    "else:\n",
    "    print(\"No more candy!\")"
   ]
  },
  {
   "cell_type": "code",
   "execution_count": 3,
   "metadata": {},
   "outputs": [
    {
     "name": "stdout",
     "output_type": "stream",
     "text": [
      "I know 0 words.\n",
      "I know 10 words.\n",
      "I know 20 words.\n",
      "I know 30 words.\n",
      "I know 40 words.\n",
      "I know 50 words.\n",
      "I know 60 words.\n",
      "I know 70 words.\n",
      "I know 80 words.\n",
      "I know 90 words.\n",
      "I know 100 words.\n",
      "I know soooo many words!\n"
     ]
    }
   ],
   "source": [
    "words = 0\n",
    "\n",
    "while words < 101:\n",
    "    print(f'I know {words} words.')\n",
    "    words += 10\n",
    "else:\n",
    "    print('I know soooo many words!')"
   ]
  },
  {
   "cell_type": "code",
   "execution_count": 6,
   "metadata": {},
   "outputs": [
    {
     "name": "stdout",
     "output_type": "stream",
     "text": [
      "Never Mind.\n"
     ]
    }
   ],
   "source": [
    "rwrwr = [1,2,3,4,5,6,7,8,9]\n",
    "\n",
    "for rwrwr in rwrwr:\n",
    "    pass\n",
    "\n",
    "print('Never Mind.')"
   ]
  },
  {
   "cell_type": "code",
   "execution_count": 2,
   "metadata": {},
   "outputs": [
    {
     "name": "stdout",
     "output_type": "stream",
     "text": [
      "M\n",
      "o\n",
      "z\n",
      "a\n",
      "r\n",
      "t\n"
     ]
    }
   ],
   "source": [
    "ms = 'Mosssssssssssssssssssssssssssssssssssssssssssssssssssssssssssssssssssssssssssssssssssssssssssssssssssssssssssssssszart'\n",
    "\n",
    "for letter in ms:\n",
    "    if letter == 's':\n",
    "     continue\n",
    "    print(letter)"
   ]
  },
  {
   "cell_type": "code",
   "execution_count": 3,
   "metadata": {},
   "outputs": [
    {
     "name": "stdout",
     "output_type": "stream",
     "text": [
      "M\n",
      "o\n"
     ]
    }
   ],
   "source": [
    "for letter in ms:\n",
    "    if letter == 's':\n",
    "        break\n",
    "    print(letter)"
   ]
  },
  {
   "cell_type": "code",
   "execution_count": 7,
   "metadata": {},
   "outputs": [],
   "source": [
    "ms = 'hello good morning hola'"
   ]
  },
  {
   "cell_type": "code",
   "execution_count": 8,
   "metadata": {},
   "outputs": [
    {
     "data": {
      "text/plain": [
       "['', 'ello good morning ', 'ola']"
      ]
     },
     "execution_count": 8,
     "metadata": {},
     "output_type": "execute_result"
    }
   ],
   "source": [
    "ms.split('h')"
   ]
  },
  {
   "cell_type": "code",
   "execution_count": null,
   "metadata": {
    "collapsed": true
   },
   "outputs": [],
   "source": []
  }
 ],
 "metadata": {
  "kernelspec": {
   "display_name": "Python 3",
   "language": "python",
   "name": "python3"
  },
  "language_info": {
   "codemirror_mode": {
    "name": "ipython",
    "version": 3
   },
   "file_extension": ".py",
   "mimetype": "text/x-python",
   "name": "python",
   "nbconvert_exporter": "python",
   "pygments_lexer": "ipython3",
   "version": "3.6.3"
  }
 },
 "nbformat": 4,
 "nbformat_minor": 2
}
